{
  "nbformat": 4,
  "nbformat_minor": 0,
  "metadata": {
    "colab": {
      "provenance": []
    },
    "kernelspec": {
      "name": "python3",
      "display_name": "Python 3"
    },
    "language_info": {
      "name": "python"
    }
  },
  "cells": [
    {
      "cell_type": "code",
      "execution_count": 2,
      "metadata": {
        "colab": {
          "base_uri": "https://localhost:8080/"
        },
        "id": "qV7TQW__qIp5",
        "outputId": "888b9044-c4d8-4097-adaa-ef0c49c65768"
      },
      "outputs": [
        {
          "output_type": "execute_result",
          "data": {
            "text/plain": [
              "Index(['Ano', 'CDMunicipio', 'Populacao', 'PessoalOcupado',\n",
              "       'PessoalAssalariado', 'VrSalarios', 'PIB', 'QtEmpresas',\n",
              "       'AreaPlantada_h', 'AreaColhida_h', 'VlProducaoAgricola',\n",
              "       'VlProducaoPecuaria', 'Area', 'Importacoes_US$', 'Exportacoes_US$',\n",
              "       'Receitas_R$', 'Transferencias_correntes_R$',\n",
              "       'Transferencias_capital_R$', 'NrNascimentos', 'NrObitosInfantis',\n",
              "       'povoamento', 'UF', 'Municipio', 'Regiao', 'PIB_PerCapita',\n",
              "       'Densidade_Populacional', 'Proporcao_PessoalAssalariado',\n",
              "       'Proporcao_Area_Plantada'],\n",
              "      dtype='object')"
            ]
          },
          "metadata": {},
          "execution_count": 2
        }
      ],
      "source": [
        "#Importação da bibliotecas necessárias\n",
        "import pandas as pd\n",
        "import numpy as np\n",
        "import matplotlib.pyplot as plt\n",
        "import warnings\n",
        "\n",
        "url = \"https://raw.githubusercontent.com/amandacmelo/Projeto-Ciencia-de-Dados/main/dados_limpos.csv\"\n",
        "dados = pd.read_csv(url, sep=\",\")\n",
        "# Substitui valores 0 por NaN em PIB_PerCapita (para evitar distorções nas análises)\n",
        "dados['PIB_PerCapita'] = dados['PIB_PerCapita'].replace(0, np.nan)\n",
        "\n",
        "\n",
        "warnings.filterwarnings(\"ignore\")\n",
        "\n",
        "#dados = pd.read_csv(url, on_bad_lines=\"skip\", sep=\";\") #lida com linhas com algum espaço vazio\n",
        "dados.columns"
      ]
    },
    {
      "cell_type": "markdown",
      "source": [
        "# 🟠 **Inferência Estatística e Regras de Associação - Economia e Empregabilidade**\n",
        "\n",
        "Nesta etapa, a equipe deu continuidade à análise de dados por meio da aplicação de técnicas de inferência estatística e algoritmos de regras de associação. Este documento tem como objetivo aprofundar a investigação dos aspectos relacionados à economia e à empregabilidade, com o intuito de avançar na busca por respostas às perguntas de pesquisa. Para isso, foram realizados testes para avaliar a significância dos padrões observados e, paralelamente, utilizou-se um algoritmo de regras de associação para extrair combinações de variáveis com maior frequência de ocorrência conjunta nos dados.\n"
      ],
      "metadata": {
        "id": "RwBiMHF4qVfE"
      }
    },
    {
      "cell_type": "markdown",
      "source": [
        "## 🔍 Inferência Estatística"
      ],
      "metadata": {
        "id": "vshAmEAzsoKC"
      }
    },
    {
      "cell_type": "markdown",
      "source": [
        "Durante a análise exploratória dos dados, surgiram novas indagações. Diante disso, o grupo optou por aprofundar a investigação da relação entre o PIB per capita e a proporção de pessoal assalariado nos municípios. O objetivo é verificar se há uma diferença significativa no PIB per capita médio entre municípios com alta e baixa proporção de pessoal assalariado.\n",
        "A partir dessa análise, surge a seguinte pergunta:\n",
        "**\"Municípios com maior proporção de pessoal assalariado apresentam um PIB per capita significativamente diferente dos demais?\"**\n",
        "\n",
        "Para iniciar o processo de resposta a essa questão, será aplicada uma inferência estatística por meio de um teste de hipótese, permitindo uma avaliação rigorosa da existência ou não dessa diferença entre os grupos analisados.\n",
        "\n",
        "Nesse contexto, foram elaboradas duas hipóteses para a realização da análise entre dois grupos independentes:\n",
        "\n",
        "- **Hipótese nula (H₀):** Não há diferença significativa no PIB per capita médio entre os dois grupos de municípios.\n",
        "- **Hipótese alternativa (H₁):** Existe diferença significativa no PIB per capita médio entre os dois grupos.\n",
        "\n",
        "\n",
        "\n",
        "\n",
        "\n"
      ],
      "metadata": {
        "id": "AbL5rC3YtBm7"
      }
    },
    {
      "cell_type": "markdown",
      "source": [
        "###🔹 Escolha da amostra\n",
        "\n",
        "Os municípios serão divididos em dois grupos:\n",
        "- **Alta proporção de pessoal assalariado:** Municípios com proporção de pessoal assalariado maior ou igual ao terceiro quartil (Q3, 25% superiores).\n",
        "\n",
        "- **Baixa proporção de pessoal assalariado:** Municípios com proporção de pessoal assalariado menor ou igual ao primeiro quartil (Q1, 25% inferiores).\n",
        "\n",
        "Para separar os municípios em grupos distintos, utilizou-se a divisão por quartis da variável **Proporcao_PessoalAssalariado**:\n",
        "\n",
        "Este critério permite focar nos extremos da variável, facilitando a detecção de municípios mais diferentes entre si, reduz o ruído ao eliminar o grupo intermediário, onde as diferenças podem ser mais sutis e por fim evita distorções pois é menos sensível a outliers.\n"
      ],
      "metadata": {
        "id": "P53UwtErxNpl"
      }
    },
    {
      "cell_type": "code",
      "source": [
        "q1 = dados['Proporcao_PessoalAssalariado'].quantile(0.25)\n",
        "q3 = dados['Proporcao_PessoalAssalariado'].quantile(0.75)\n",
        "\n",
        "grupo_baixo = dados[dados['Proporcao_PessoalAssalariado'] <= q1]\n",
        "grupo_alto = dados[dados['Proporcao_PessoalAssalariado'] >= q3]\n"
      ],
      "metadata": {
        "id": "PGnCtmMXyznL"
      },
      "execution_count": null,
      "outputs": []
    },
    {
      "cell_type": "markdown",
      "source": [
        "### 🔹 Estatítisca Descritiva da Amostra\n",
        "\n",
        "Explorar as características principais do PIB per capita nos dois grupos definidos (alto e baixo pessoal assalariado), calculando:\n",
        "\n",
        "- Tamanho do grupo  \n",
        "- Média  \n",
        "- Desvio padrão  \n",
        "- Erro padrão da média  \n",
        "- Distância entre as médias dos grupos em unidades do erro padrão combinado  \n",
        "\n",
        "Essa análise auxilia na compreensão das diferenças entre os grupos antes do teste de hipótese.\n",
        "\n"
      ],
      "metadata": {
        "id": "pMIIgfuq2YBf"
      }
    },
    {
      "cell_type": "code",
      "source": [
        "import numpy as np\n",
        "\n",
        "def estatisticas_comparacao(grupo1, grupo2, nome1, nome2):\n",
        "    n1 = grupo1.size\n",
        "    media1 = grupo1.mean()\n",
        "    desvio1 = grupo1.std()\n",
        "    erro_padrao1 = desvio1 / np.sqrt(n1)\n",
        "\n",
        "    n2 = grupo2.size\n",
        "    media2 = grupo2.mean()\n",
        "    desvio2 = grupo2.std()\n",
        "    erro_padrao2 = desvio2 / np.sqrt(n2)\n",
        "\n",
        "    erro_padrao_comb = np.sqrt(erro_padrao1**2 + erro_padrao2**2)\n",
        "\n",
        "    distancia = abs(media1 - media2) / erro_padrao_comb\n",
        "\n",
        "    print(f\"Estatísticas para {nome1}:\")\n",
        "    print(f\"  Tamanho: {n1}\")\n",
        "    print(f\"  Média PIB per capita: {media1:.2f}\")\n",
        "    print(f\"  Desvio padrão: {desvio1:.2f}\")\n",
        "    print(f\"  Erro padrão da média: {erro_padrao1:.2f}\\n\")\n",
        "\n",
        "    print(f\"Estatísticas para {nome2}:\")\n",
        "    print(f\"  Tamanho: {n2}\")\n",
        "    print(f\"  Média PIB per capita: {media2:.2f}\")\n",
        "    print(f\"  Desvio padrão: {desvio2:.2f}\")\n",
        "    print(f\"  Erro padrão da média: {erro_padrao2:.2f}\\n\")\n",
        "\n",
        "    print(f\"Distância entre as médias (em erros padrão combinados): {distancia:.2f}\")\n",
        "\n",
        "grupo_baixo_pib = grupo_baixo['PIB_PerCapita'].dropna()\n",
        "grupo_alto_pib = grupo_alto['PIB_PerCapita'].dropna()\n",
        "\n",
        "estatisticas_comparacao(grupo_baixo_pib, grupo_alto_pib, \"Grupo Baixo\", \"Grupo Alto\")\n"
      ],
      "metadata": {
        "colab": {
          "base_uri": "https://localhost:8080/"
        },
        "collapsed": true,
        "id": "bCLBJ-Qe312s",
        "outputId": "cef3ad2c-8d0e-41e2-d069-32d134dd7206"
      },
      "execution_count": null,
      "outputs": [
        {
          "output_type": "stream",
          "name": "stdout",
          "text": [
            "Estatísticas para Grupo Baixo:\n",
            "  Tamanho: 7032\n",
            "  Média PIB per capita: 27.02\n",
            "  Desvio padrão: 20.16\n",
            "  Erro padrão da média: 0.24\n",
            "\n",
            "Estatísticas para Grupo Alto:\n",
            "  Tamanho: 6873\n",
            "  Média PIB per capita: 19.52\n",
            "  Desvio padrão: 30.73\n",
            "  Erro padrão da média: 0.37\n",
            "\n",
            "Distância entre as médias (em erros padrão combinados): 16.97\n"
          ]
        }
      ]
    },
    {
      "cell_type": "markdown",
      "source": [
        "| Estatística                 | Grupo Baixo            | Grupo Alto            |\n",
        "|----------------------------|-----------------------|----------------------|\n",
        "| Tamanho                    | 7032                 | 6873              |\n",
        "| Média PIB per capita        | 27,02                | 19,52               |\n",
        "| Desvio padrão              | 20,16                | 30,73                |\n",
        "| Erro padrão da média       | 0,24                 | 0,37                |\n",
        "\n",
        "**Distância entre as médias (em erros padrão combinados): 16,97**\n",
        "\n",
        "Os dados indicam que há uma diferença significativa no PIB per capita entre os municípios com baixa e alta proporção de pessoal assalariado. O grupo com baixa proporção apresenta uma média de PIB per capita maior (27,02) em comparação ao grupo com alta proporção (19,52), com uma distância entre as médias muito elevada (16,97 erros padrão combinados), indicando que essa diferença não é fruto do acaso, mas sim estatisticamente robusta. Além disso, a baixa variabilidade do erro padrão devido ao grande tamanho das amostras reforça a precisão dessas estimativas, sugerindo que a proporção de pessoal assalariado está associada a diferenças relevantes na renda média dos municípios.\n"
      ],
      "metadata": {
        "id": "mDobsZpC4b7t"
      }
    },
    {
      "cell_type": "markdown",
      "source": [
        "### 🔹 Teste t de Welch para Diferença entre Médias do PIB Per Capita\n",
        "\n",
        "O teste t de Welcj é aplicado para comparar as médias do PIB per capita entre os dois grupos, considerando que as variâncias podem ser diferentes.\n",
        "\n",
        "Calcula-se a estatística t e o valor-p (p-valor).\n",
        "\n",
        "**Critério de decisão:**\n",
        "\n",
        "- Se \\( p < 0,05 \\), rejeita-se a hipótese nula, ou seja, há diferença significativa entre as médias dos grupos.\n",
        "- Se \\( p >= 0,05 \\), não se rejeita a hipótese nula, indicando que não há evidência suficiente para afirmar que as médias são diferentes.\n",
        "\n"
      ],
      "metadata": {
        "id": "OOXc1XDE5gPn"
      }
    },
    {
      "cell_type": "code",
      "source": [
        "from scipy.stats import ttest_ind\n",
        "\n",
        "grupo_baixo_pib = grupo_baixo['PIB_PerCapita'].dropna()\n",
        "grupo_alto_pib = grupo_alto['PIB_PerCapita'].dropna()\n",
        "\n",
        "stat, pvalue = ttest_ind(grupo_baixo_pib, grupo_alto_pib, equal_var=False)\n",
        "\n",
        "print(\"### Teste t de Welch - Comparação entre grupos\")\n",
        "print(f\"Estatística t: {stat:.2f}\")\n",
        "print(f\"Valor-p: {pvalue:}\")\n",
        "\n",
        "alpha = 0.05\n",
        "if pvalue < alpha:\n",
        "    print(\"Resultado: Rejeita-se a hipótese nula. Há evidência de diferença significativa entre as médias.\")\n",
        "else:\n",
        "    print(\"Resultado: Não se rejeita a hipótese nula. Não há evidência de diferença significativa entre as médias.\")\n"
      ],
      "metadata": {
        "colab": {
          "base_uri": "https://localhost:8080/"
        },
        "id": "jpYSbvQY54C3",
        "outputId": "c8f126fa-1f1d-4ed1-df31-7700205b8b12"
      },
      "execution_count": null,
      "outputs": [
        {
          "output_type": "stream",
          "name": "stdout",
          "text": [
            "### Teste t de Welch - Comparação entre grupos\n",
            "Estatística t: 16.97\n",
            "Valor-p: 7.197223193425474e-64\n",
            "Resultado: Rejeita-se a hipótese nula. Há evidência de diferença significativa entre as médias.\n"
          ]
        }
      ]
    },
    {
      "cell_type": "markdown",
      "source": [
        "### 🔹 Conclusão\n",
        "\n",
        "Os resultados do teste t de Welch indicam uma **diferença estatisticamente significativa** entre as médias de PIB per capita dos municípios com alta e baixa proporção de pessoal assalariado. Com um valor-p extremamente baixo (≈ 7.2 × 10⁻⁶⁴), **rejeita-se a hipótese nula**, que afirmava não haver diferença entre os grupos. Assim, os dados sugerem fortemente que a proporção de pessoal assalariado está associada a variações significativas no PIB per capita dos municípios analisados.\n",
        "Além disso, com base na pergunta levantada e com os resultados obtidos é possível afirmar que municípios com maior proporção de pessoal assalariado apresentam um PIB per capita significativamente diferente dos demais.Contudo, vale destacar: o teste mostra diferença significativa, mas não afirma causalidade — ou seja, não se pode dizer com certeza que mais pessoal assalariado causa maior (ou menor) PIB per capita, apenas que existe uma associação entre esses fatores nos dados analisados.\n"
      ],
      "metadata": {
        "id": "OjOL_xsl-lCe"
      }
    },
    {
      "cell_type": "markdown",
      "source": [
        "# **🔹 Regra de Associação: PIB per capita e População**\n",
        "Esta análise busca identificar padrões de associação entre o Produto Interno Bruto (PIB) per capita e o tamanho populacional dos municípios, especificamente verificando se cidades com maiores PIBs per capita estão associadas aos menores índices populacionais.\n",
        "\n",
        "Para isso, foi aplicado o algoritmo Apriori em um conjunto de dados municipais de 2019, permitindo identificar regras de associação entre essas variáveis econômicas e demográficas."
      ],
      "metadata": {
        "id": "fd6QAQ8vxasw"
      }
    },
    {
      "cell_type": "code",
      "source": [
        "from mlxtend.frequent_patterns import apriori, association_rules\n",
        "\n",
        "# Cálculo do PIB per capita\n",
        "dados['PIB_per_capita'] = dados['PIB'] / dados['Populacao']\n",
        "\n",
        "# Preparação dos dados para análise (ano 2019, sem duplicatas)\n",
        "dados_analise = dados[dados[\"Ano\"].isin([2019])]\n",
        "dados_analise = dados_analise.sort_values(\"PIB\", ascending=False).drop_duplicates(subset=\"Municipio\")\n",
        "\n",
        "# Cálculo das médias de referência\n",
        "media_PIBpc_2019 = dados[dados[\"Ano\"] == 2019][\"PIB_per_capita\"].mean()\n",
        "media_pop_2019 = dados[dados[\"Ano\"] == 2019][\"Populacao\"].mean()\n",
        "\n",
        "# Criação das variáveis binárias para análise de associação\n",
        "dados_apriori_PIB_POP = pd.DataFrame()\n",
        "dados_apriori_PIB_POP[\"PIBpc_maior_media\"] = (dados_analise[\"PIB_per_capita\"] > media_PIBpc_2019).astype(int)\n",
        "dados_apriori_PIB_POP[\"Populacao_menor_media\"] = (dados_analise[\"Populacao\"] < media_pop_2019).astype(int)\n",
        "\n",
        "# Conversão para formato booleano\n",
        "dados_apriori_PIB_POP = dados_apriori_PIB_POP.astype(bool)\n",
        "\n",
        "# Aplicação do algoritmo Apriori\n",
        "print(\"Análise de Associação: PIB per capita Alto × População Baixa (2019)\")\n",
        "frequent_itemsets = apriori(dados_apriori_PIB_POP, min_support=0.02, use_colnames=True)\n",
        "print(frequent_itemsets)"
      ],
      "metadata": {
        "colab": {
          "base_uri": "https://localhost:8080/"
        },
        "id": "z8-TxwE4xrom",
        "outputId": "3e0f2f0c-a198-485b-b4e9-bbc31da0f261"
      },
      "execution_count": 3,
      "outputs": [
        {
          "output_type": "stream",
          "name": "stdout",
          "text": [
            "Análise de Associação: PIB per capita Alto × População Baixa (2019)\n",
            "    support                                    itemsets\n",
            "0  0.359071                         (PIBpc_maior_media)\n",
            "1  0.832736                     (Populacao_menor_media)\n",
            "2  0.271663  (Populacao_menor_media, PIBpc_maior_media)\n"
          ]
        }
      ]
    },
    {
      "cell_type": "markdown",
      "source": [
        "Com base nos resultados obtidos pelo algoritmo Apriori:\n",
        "\n",
        "*  **35%** dos municípios apresentam PIB per capita **acima** da média nacional\n",
        "*  **83%** dos municípios possuem população **menor** que a média nacional\n",
        "*  **27%** dos municípios combinam PIB per capita **alto** com população **baixa**\n"
      ],
      "metadata": {
        "id": "B7auWewRy6K1"
      }
    },
    {
      "cell_type": "code",
      "source": [
        "# Geração das regras de associação\n",
        "regras = association_rules(frequent_itemsets, metric=\"confidence\", min_threshold=0.01)\n",
        "\n",
        "# Filtragem para regras relevantes à hipótese\n",
        "regras_relevantes = regras[\n",
        "    (regras['antecedents'].astype(str).str.contains('PIBpc_maior_media')) |\n",
        "    (regras['consequents'].astype(str).str.contains('Populacao_menor_media'))\n",
        "]\n",
        "\n",
        "print(\"Regras de Associação - PIB per capita Alto → População Baixa\")\n",
        "print(regras_relevantes[[\"antecedents\", \"consequents\", \"support\", \"confidence\", \"lift\"]])"
      ],
      "metadata": {
        "colab": {
          "base_uri": "https://localhost:8080/"
        },
        "id": "AqWVW2U_yVpH",
        "outputId": "b73f1b2d-5efb-4325-8d2a-ed6660876aef"
      },
      "execution_count": 6,
      "outputs": [
        {
          "output_type": "stream",
          "name": "stdout",
          "text": [
            "Regras de Associação - PIB per capita Alto → População Baixa\n",
            "           antecedents              consequents   support  confidence  \\\n",
            "1  (PIBpc_maior_media)  (Populacao_menor_media)  0.271663    0.756572   \n",
            "\n",
            "       lift  \n",
            "1  0.908538  \n"
          ]
        }
      ]
    },
    {
      "cell_type": "markdown",
      "source": [
        "Com base nos resultados obtidos através do algoritmo Apriori e das regras de associação, pode-se inferir que a confiança das regras é consideravelmente alta, demonstrando uma associação significativa entre as variáveis analisadas:\n",
        "\n",
        "📌 **PIB per capita maior que a média ⟶ População menor que a média**\n",
        "\n",
        "📊 Com **75,6% de confiança**\n",
        "\n",
        "Ou seja, em aproximadamente 76% dos casos onde o PIB per capita é maior que a média dos municípios, a população também é menor que a média. Este resultado confirma parcialmente a hipótese de que municípios mais prósperos economicamente tendem a ter populações menores.\n",
        "\n",
        "📌 **População menor que a média ⟶ PIB per capita maior que a média**\n",
        "\n",
        "📊 Com **27,2% de confiança**\n",
        "A relação inversa apresenta uma confiança mais baixa, indicando que **apenas cerca de 27% dos municípios com população menor que a média também possuem PIB per capita maior**. Isso sugere que ter população pequena não garante prosperidade econômica, mas quando há prosperidade, ela tende a estar associada a populações menores.\n",
        "\n",
        "Portanto, conclui-se que há uma associação positiva e significativa entre PIB per capita elevado e menor população municipal. Os dados indicam que municípios com populações menores têm maior probabilidade de apresentar PIB per capita acima da média, embora essa não seja uma regra absoluta, evidenciando a complexidade dos fatores que determinam a prosperidade econômica local."
      ],
      "metadata": {
        "id": "-oetrPy5z8wO"
      }
    }
  ]
}