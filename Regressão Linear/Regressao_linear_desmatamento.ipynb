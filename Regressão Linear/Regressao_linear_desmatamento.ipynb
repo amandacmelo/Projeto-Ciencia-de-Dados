{
  "nbformat": 4,
  "nbformat_minor": 0,
  "metadata": {
    "colab": {
      "provenance": []
    },
    "kernelspec": {
      "name": "python3",
      "display_name": "Python 3"
    },
    "language_info": {
      "name": "python"
    }
  },
  "cells": [
    {
      "cell_type": "code",
      "execution_count": 17,
      "metadata": {
        "colab": {
          "base_uri": "https://localhost:8080/"
        },
        "id": "BqIQJMcmSfHv",
        "outputId": "7eefe805-0d3b-4072-8245-c42e80da5349"
      },
      "outputs": [
        {
          "output_type": "execute_result",
          "data": {
            "text/plain": [
              "Index(['Ano', 'CDMunicipio', 'Populacao', 'PessoalOcupado',\n",
              "       'PessoalAssalariado', 'VrSalarios', 'PIB', 'QtEmpresas',\n",
              "       'AreaPlantada_h', 'AreaColhida_h', 'VlProducaoAgricola',\n",
              "       'VlProducaoPecuaria', 'Area', 'Importacoes_US$', 'Exportacoes_US$',\n",
              "       'Receitas_R$', 'Transferencias_correntes_R$',\n",
              "       'Transferencias_capital_R$', 'NrNascimentos', 'NrObitosInfantis',\n",
              "       'povoamento', 'UF', 'Municipio', 'Regiao', 'PIB_PerCapita',\n",
              "       'Densidade_Populacional', 'Proporcao_PessoalAssalariado',\n",
              "       'Proporcao_Area_Plantada'],\n",
              "      dtype='object')"
            ]
          },
          "metadata": {},
          "execution_count": 17
        }
      ],
      "source": [
        "#Importação da bibliotecas necessárias\n",
        "import numpy as np\n",
        "import pandas as pd\n",
        "import matplotlib.pyplot as plt\n",
        "import seaborn as sns\n",
        "import statsmodels.api as sm\n",
        "\n",
        "#from sklearn.datasets import load_boston\n",
        "from sklearn.linear_model import LinearRegression\n",
        "import scipy.stats as stats\n",
        "url = \"https://raw.githubusercontent.com/amandacmelo/Projeto-Ciencia-de-Dados/main/dados_limpos.csv\"\n",
        "dados = pd.read_csv(url, sep=\",\")\n",
        "\n",
        "#dados = pd.read_csv(url, on_bad_lines=\"skip\", sep=\";\") #lida com linhas com algum espaço vazio\n",
        "dados.columns\n",
        "\n"
      ]
    },
    {
      "cell_type": "markdown",
      "source": [
        "# 🟤 Regressão - Municípios com maior produção agrícola tendem a ter maior área desmatada?\n",
        "\n",
        "Na entrega anterior do trabalho, foi utilizado regras de associação (Apriori) para explorar as relações entre desmatamento e variáveis agropecuárias. As regras extraídas indicaram uma associação positiva e significativa entre esses fatores. Por exemplo:\n",
        "\n",
        "* Quando o desmatamento e a área plantada são altos, há uma probabilidade de ~77% de que a produção agrícola também seja alta.\n",
        "\n",
        "Esses achados sugerem que o aumento da produção agrícola e da área plantada está correlacionado com maior desmatamento, o que motivou a aplicação de uma análise de regressão nesta etapa, com o objetivo de  avaliar essa relação de forma quantitativa."
      ],
      "metadata": {
        "id": "2SYLm7jFpudp"
      }
    },
    {
      "cell_type": "markdown",
      "source": [
        "## Preparação dos dados\n",
        "Nesta etapa, os dados de produção agrícola foram combinados com os dados de desmatamento por município e ano. Para isso, foi necessário padronizar os nomes das colunas de identificação e realizar a mesclagem entre os conjuntos.\n",
        "\n",
        "Após a junção, foram selecionadas apenas as variáveis relevantes para a análise: produção agrícola, área desmatada, área plantada, área colhida e produção pecuária.\n"
      ],
      "metadata": {
        "id": "5oNdWsujsEI8"
      }
    },
    {
      "cell_type": "code",
      "source": [
        "\n",
        "url1 = \"https://raw.githubusercontent.com/amandacmelo/Projeto-Ciencia-de-Dados/refs/heads/main/Dados%20sobre%20Desmatamento/area_desmatada_municipio.csv\"\n",
        "dados_desmatamento = pd.read_csv(url1, sep=\",\")\n",
        "\n",
        "# Renomear colunas para facilitar a mesclagem\n",
        "dados = dados.rename(columns={'Ano': 'ano', 'CDMunicipio': 'id_municipio'})\n",
        "\n",
        "# Mesclar os datasets com base nas colunas 'ano' e 'id_municipio'\n",
        "df = pd.merge(dados, dados_desmatamento, on=['ano', 'id_municipio'], how='inner')\n",
        "\n",
        "# Selecionar apenas as colunas relevantes\n",
        "df = df[['VlProducaoAgricola', 'desmatado', 'AreaPlantada_h', 'VlProducaoPecuaria']].copy()"
      ],
      "metadata": {
        "id": "wBzFpnjyS83q"
      },
      "execution_count": 146,
      "outputs": []
    },
    {
      "cell_type": "markdown",
      "source": [
        "## 📈 Regressão Linear Simples: Área Plantada e Desmatamento\n",
        "Este código aplica uma regressão linear simples para investigar se existe uma relação entre a área plantada e a área desmatada nos municípios. A ideia é verificar se, à medida que aumenta a área utilizada para plantio, também ocorre um aumento proporcional no desmatamento.\n",
        "\n",
        "O modelo estima uma equação de reta que melhor se ajusta aos dados observados, permitindo medir a força e a direção dessa relação. Além disso, são calculadas métricas como o R², que indica o quanto da variação no desmatamento pode ser explicada pela área plantada, e o Erro Médio Absoluto (MAE), que mostra o quão próximas as previsões do modelo estão dos valores reais.\n",
        "\n",
        "Essa abordagem ajuda a responder se áreas mais dedicadas à agricultura tendem, de fato, a apresentar maior desmatamento — e com qual intensidade."
      ],
      "metadata": {
        "id": "xHqkF-cE2YrA"
      }
    },
    {
      "cell_type": "code",
      "source": [
        "from sklearn.linear_model import LinearRegression\n",
        "from sklearn.metrics import mean_absolute_error\n",
        "\n",
        "# Variáveis independentes (X) e dependentes (Y)\n",
        "X = df['AreaPlantada_h'].values.reshape(-1, 1)  # X deve estar em formato 2D\n",
        "Y = df['desmatado'].values  # Y pode estar em formato 1D\n",
        "\n",
        "# Criar e ajustar o modelo de regressão linear\n",
        "lm = LinearRegression()\n",
        "lm.fit(X, Y)\n",
        "\n",
        "# Coeficiente (beta), intercepto e R²\n",
        "print('Coeficiente estimado (β):', lm.coef_[0])\n",
        "print('Intercepto:', lm.intercept_)\n",
        "print('R² (score):', lm.score(X, Y))\n",
        "\n",
        "# Previsões e Erro Médio Absoluto\n",
        "Y_pred = lm.predict(X)\n",
        "mae = mean_absolute_error(Y, Y_pred)\n",
        "print('Erro Médio Absoluto (MAE):', mae)\n"
      ],
      "metadata": {
        "colab": {
          "base_uri": "https://localhost:8080/"
        },
        "id": "Obw7vmE9Txyg",
        "outputId": "90d0983b-aa9a-44c8-caa8-1170b86226de"
      },
      "execution_count": 147,
      "outputs": [
        {
          "output_type": "stream",
          "name": "stdout",
          "text": [
            "Coeficiente estimado (β): 0.27304162419860073\n",
            "Intercepto: 373.271883024796\n",
            "R² (score): 0.10175792569754205\n",
            "Erro Médio Absoluto (MAE): 398.76426000958423\n"
          ]
        }
      ]
    },
    {
      "cell_type": "markdown",
      "source": [
        "### Conclusão\n",
        "A regressão linear confirmou parcialmente a ideia de que a expansão agrícola está associada ao desmatamento. O coeficiente β = 0,273 indica uma relação positiva entre área plantada e área desmatada, alinhando-se aos achados anteriores das regras de associação.\n",
        "\n",
        "No entanto, o R² de apenas 10,18% mostra que a área plantada explica pouco da variação no desmatamento. O erro médio absoluto de 398,76 reforça as limitações do modelo.\n",
        "\n",
        "Assim, embora exista associação, a relação é mais complexa e depende de outros fatores não considerados, como políticas públicas, tipo de cultura e contexto regional. Modelos mais completos são necessários para entender melhor o fenômeno."
      ],
      "metadata": {
        "id": "fok_pjjJ4Ekf"
      }
    },
    {
      "cell_type": "markdown",
      "source": [
        "## 📈 Regressão Linear Múltipla: Váriáveis Agropecuárias e o Desmatamento\n",
        "\n",
        "Levando em consideração a limitação levantada anteriormente, foi realizada uma regressão linear múltipla incluindo as variáveis produção agrícola e pecuária, além da área plantada, para verificar se a adição dessas variáveis auxilia no desempenho do modelo para a explicação da variação da área desmatada.\n",
        "\n",
        "Essa abordagem busca compreender se o desmatamento está mais fortemente relacionado ao conjunto de fatores ligados à atividade agropecuárias, em comparação ao modelo anterior, que utilizava apenas uma variável independente."
      ],
      "metadata": {
        "id": "vT1o6Jkx4LzM"
      }
    },
    {
      "cell_type": "code",
      "source": [
        "import pandas as pd\n",
        "from sklearn.linear_model import LinearRegression\n",
        "from sklearn.metrics import mean_absolute_error\n",
        "\n",
        "# Definindo as variáveis independentes (X) e a variável dependente (Y)\n",
        "X = df[['VlProducaoAgricola', 'AreaPlantada_h', 'VlProducaoPecuaria']]\n",
        "Y = df['desmatado']\n",
        "\n",
        "# Criando e treinando o modelo de Regressão Linear\n",
        "modelo = LinearRegression()\n",
        "modelo.fit(X, Y)\n",
        "\n",
        "# Coeficientes e intercepto do modelo\n",
        "print('Coeficientes:')\n",
        "print(pd.DataFrame(modelo.coef_, X.columns, columns=['Coeficiente']))\n",
        "print('\\nIntercepto:', modelo.intercept_)\n",
        "\n",
        "# R² - Coeficiente de Determinação\n",
        "r2 = modelo.score(X, Y)\n",
        "print('\\nR² (Score):', r2)\n",
        "\n",
        "# Fazendo previsões com os dados de entrada\n",
        "Y_pred = modelo.predict(X)\n",
        "\n",
        "# Calculando o Erro Médio Absoluto (MAE)\n",
        "mae = mean_absolute_error(Y, Y_pred)\n",
        "print('Erro Médio Absoluto (MAE):', mae)\n"
      ],
      "metadata": {
        "colab": {
          "base_uri": "https://localhost:8080/"
        },
        "id": "H2IOfqX5c3Dt",
        "outputId": "78e3f1b3-c880-4232-81c0-f574242cb09f"
      },
      "execution_count": 148,
      "outputs": [
        {
          "output_type": "stream",
          "name": "stdout",
          "text": [
            "Coeficientes:\n",
            "                    Coeficiente\n",
            "VlProducaoAgricola     0.048980\n",
            "AreaPlantada_h         0.227813\n",
            "VlProducaoPecuaria     0.071929\n",
            "\n",
            "Intercepto: 312.1512204393604\n",
            "\n",
            "R² (Score): 0.12352226214911755\n",
            "Erro Médio Absoluto (MAE): 390.4037677003679\n"
          ]
        }
      ]
    },
    {
      "cell_type": "markdown",
      "source": [
        "### Conclusão\n",
        "O modelo múltiplo, incorporando valor da produção, área plantada e área colhida, apresentou R² de 12.35% e MAE de 390.40, representando uma melhoria em relação ao modelo simples (R² = 10.18% e MAE = 398,76). Os coeficientes positivos das três variáveis (0.050 para valor da produção, 0.228 para área plantada e 0.072 para área colhida) confirmam que todos os aspectos da atividade agropecuárias contribuem para o desmatamento.\n",
        "\n",
        "Entretanto, mesmo com a inclusão de múltiplas variáveis agropecuárias, o modelo ainda explica apenas cerca de 12% da variação no desmatamento, evidenciando a alta complexidade desta variável. Este baixo poder explicativo revela que aproximadamente 88% da variação no desmatamento é influenciada por fatores não capturados no modelo, como políticas ambientais, fiscalização, características geográficas, pressões econômicas locais e outros determinantes socioambientais.\n",
        "\n",
        "Os resultados validam os achados das regras de associação anteriores, confirmando estatisticamente a relação positiva entre atividade agrícola e desmatamento, mas destacam que o desmatamento é um fenômeno multifatorial que transcende as variáveis puramente agropecuárias analisadas."
      ],
      "metadata": {
        "id": "AcwXAHmV7N5T"
      }
    }
  ]
}