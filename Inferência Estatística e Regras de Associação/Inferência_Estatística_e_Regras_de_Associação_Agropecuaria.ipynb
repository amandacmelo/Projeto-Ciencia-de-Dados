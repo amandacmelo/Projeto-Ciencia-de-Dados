{
  "nbformat": 4,
  "nbformat_minor": 0,
  "metadata": {
    "colab": {
      "provenance": []
    },
    "kernelspec": {
      "name": "python3",
      "display_name": "Python 3"
    },
    "language_info": {
      "name": "python"
    }
  },
  "cells": [
    {
      "cell_type": "markdown",
      "source": [
        "Este notebook dá continuidade à análise dos dados agropecuários, realizando testes de Inferência Estatística e aplicando regras de associação. O objetivo é aprofundar a compreensão das relações entre desmatamento, área plantada e produção agrícola e pecuária, identificando padrões relevantes que possam auxiliar em tomadas de decisão e em estudos ambientais e econômicos."
      ],
      "metadata": {
        "id": "SkiWiw_kTwOr"
      }
    },
    {
      "cell_type": "code",
      "execution_count": null,
      "metadata": {
        "colab": {
          "base_uri": "https://localhost:8080/"
        },
        "id": "HLwaIfTcTrqg",
        "outputId": "15330ee9-1b8b-4b25-e3ad-977d8eca15de"
      },
      "outputs": [
        {
          "output_type": "execute_result",
          "data": {
            "text/plain": [
              "Index(['Ano', 'CDMunicipio', 'Populacao', 'PessoalOcupado',\n",
              "       'PessoalAssalariado', 'VrSalarios', 'PIB', 'QtEmpresas',\n",
              "       'AreaPlantada_h', 'AreaColhida_h', 'VlProducaoAgricola',\n",
              "       'VlProducaoPecuaria', 'Area', 'Importacoes_US$', 'Exportacoes_US$',\n",
              "       'Receitas_R$', 'Transferencias_correntes_R$',\n",
              "       'Transferencias_capital_R$', 'NrNascimentos', 'NrObitosInfantis',\n",
              "       'povoamento', 'UF', 'Municipio', 'Regiao', 'PIB_PerCapita',\n",
              "       'Densidade_Populacional', 'Proporcao_PessoalAssalariado',\n",
              "       'Proporcao_Area_Plantada'],\n",
              "      dtype='object')"
            ]
          },
          "metadata": {},
          "execution_count": 1
        }
      ],
      "source": [
        "#Importação da bibliotecas necessárias\n",
        "import pandas as pd\n",
        "import numpy as np\n",
        "import matplotlib.pyplot as plt\n",
        "import seaborn as sns\n",
        "from scipy import stats\n",
        "import statsmodels.api as sm\n",
        "from statsmodels.formula.api import ols\n",
        "from matplotlib.colors import LinearSegmentedColormap\n",
        "\n",
        "url = \"https://raw.githubusercontent.com/amandacmelo/Projeto-Ciencia-de-Dados/main/dados_limpos.csv\"\n",
        "dados = pd.read_csv(url, sep=\",\")\n",
        "\n",
        "#dados = pd.read_csv(url, on_bad_lines=\"skip\", sep=\";\") #lida com linhas com algum espaço vazio\n",
        "dados.columns"
      ]
    },
    {
      "cell_type": "markdown",
      "source": [
        "# 🌲 Há evidência de que municípios com maior valor de produção pecuária também apresentam maior PIB?\n",
        "\n",
        "A produção pecuária representa uma importante fonte de renda para muitos municípios brasileiros, desempenhando papel central em suas economias. Diante disso, é pertinente investigar se há uma relação significativa entre o valor gerado pela produção pecuária e o Produto Interno Bruto (PIB) desses municípios.\n",
        "\n",
        "Neste contexto, propõe-se uma análise comparativa entre dois grupos de municípios — aqueles com alto valor de produção pecuária e aqueles com baixo valor — com o objetivo de verificar, por meio de inferência estatística, se o PIB difere significativamente entre esses grupos.\n",
        "\n",
        "Para isso, será aplicado um teste de hipótese estatístico, com as seguintes formulações:\n",
        "\n",
        "* Hipótese nula (H₀): A média do PIB é igual nos dois grupos.\n",
        "\n",
        "* Hipótese alternativa (H₁): A média do PIB difere entre os grupos.\n",
        "\n"
      ],
      "metadata": {
        "id": "L1bGnRC3UiVX"
      }
    },
    {
      "cell_type": "markdown",
      "source": [
        "## Organização dos dados para análise\n",
        "\n",
        "Para investigar a relação entre a produção pecuária e o PIB dos municípios, inicialmente foi selcionado apenas as duas variáveis de interesse: o valor da produção pecuária e o PIB municipal.\n",
        "\n",
        "Em seguida, foi uutlizado os quartis da variável de produção pecuária para segmentar os municípios em grupos distintos. O primeiro quartil (Q1) representa o limite inferior, enquanto o terceiro quartil (Q3) representa o limite superior da distribuição dessa variável.\n",
        "\n",
        "Sendo assim foi definido dois grupos para comparação:\n",
        "\n",
        "* Grupo Baixo Valor de Produção Pecuária: municípios com valor de produção pecuária menor ou igual ao primeiro quartil (Q1).\n",
        "\n",
        "* Grupo Alto Valor de Produção Pecuária: municípios com valor de produção pecuária maior que o terceiro quartil (Q3)."
      ],
      "metadata": {
        "id": "s7dpAla7CaUJ"
      }
    },
    {
      "cell_type": "code",
      "source": [
        "# Selecionar apenas as colunas necessárias\n",
        "dados_analise = dados[['VlProducaoPecuaria', 'PIB']].copy()\n",
        "\n",
        "# Remover linhas com valores ausentes\n",
        "dados_analise = dados_analise.dropna()\n",
        "\n",
        "q1 = dados['VlProducaoPecuaria'].quantile(0.25)\n",
        "q3 = dados['VlProducaoPecuaria'].quantile(0.75)\n",
        "\n",
        "grupo_baixo = dados[dados['VlProducaoPecuaria'] <= q1]\n",
        "grupo_alto = dados[dados['VlProducaoPecuaria'] > q3]\n"
      ],
      "metadata": {
        "id": "J-Zg_eOrkwhn"
      },
      "execution_count": null,
      "outputs": []
    },
    {
      "cell_type": "markdown",
      "source": [
        "## Estatística Descritiva\n",
        "\n",
        "Abaixo estão as estatísticas descritivas e o cálculo da distância entre médias (em erros padrão combinados) para os dois grupos de municípios."
      ],
      "metadata": {
        "id": "aEcXrf5lDpl6"
      }
    },
    {
      "cell_type": "code",
      "source": [
        "import numpy as np\n",
        "\n",
        "def estatisticas_comparacao(grupo1, grupo2, nome1, nome2):\n",
        "    n1 = grupo1.size\n",
        "    media1 = grupo1.mean()\n",
        "    desvio1 = grupo1.std()\n",
        "    erro_padrao1 = desvio1 / np.sqrt(n1)\n",
        "\n",
        "    n2 = grupo2.size\n",
        "    media2 = grupo2.mean()\n",
        "    desvio2 = grupo2.std()\n",
        "    erro_padrao2 = desvio2 / np.sqrt(n2)\n",
        "\n",
        "    erro_padrao_comb = np.sqrt(erro_padrao1**2 + erro_padrao2**2)\n",
        "\n",
        "    distancia = abs(media1 - media2) / erro_padrao_comb\n",
        "\n",
        "    print(f\"Estatísticas para {nome1}:\")\n",
        "    print(f\"  Tamanho: {n1}\")\n",
        "    print(f\"  Média PIB per capita: {media1:.2f}\")\n",
        "    print(f\"  Desvio padrão: {desvio1:.2f}\")\n",
        "    print(f\"  Erro padrão da média: {erro_padrao1:.2f}\\n\")\n",
        "\n",
        "    print(f\"Estatísticas para {nome2}:\")\n",
        "    print(f\"  Tamanho: {n2}\")\n",
        "    print(f\"  Média PIB per capita: {media2:.2f}\")\n",
        "    print(f\"  Desvio padrão: {desvio2:.2f}\")\n",
        "    print(f\"  Erro padrão da média: {erro_padrao2:.2f}\\n\")\n",
        "\n",
        "    print(f\"Distância entre as médias (em erros padrão combinados): {distancia:.2f}\")\n",
        "\n",
        "grupo_baixo_pib = grupo_baixo['PIB_PerCapita'].dropna()\n",
        "grupo_alto_pib = grupo_alto['PIB_PerCapita'].dropna()\n",
        "\n",
        "estatisticas_comparacao(grupo_baixo_pib, grupo_alto_pib, \"Grupo Baixo\", \"Grupo Alto\")\n"
      ],
      "metadata": {
        "colab": {
          "base_uri": "https://localhost:8080/"
        },
        "id": "bA5rj6h0r-ga",
        "outputId": "8c2936ec-f072-416c-da64-9256fffa294c"
      },
      "execution_count": null,
      "outputs": [
        {
          "output_type": "stream",
          "name": "stdout",
          "text": [
            "Estatísticas para Grupo Baixo:\n",
            "  Tamanho: 8336\n",
            "  Média PIB per capita: 17.36\n",
            "  Desvio padrão: 25.48\n",
            "  Erro padrão da média: 0.28\n",
            "\n",
            "Estatísticas para Grupo Alto:\n",
            "  Tamanho: 8339\n",
            "  Média PIB per capita: 23.82\n",
            "  Desvio padrão: 26.29\n",
            "  Erro padrão da média: 0.29\n",
            "\n",
            "Distância entre as médias (em erros padrão combinados): 16.12\n"
          ]
        }
      ]
    },
    {
      "cell_type": "markdown",
      "source": [
        "### Conclusão\n",
        "\n",
        "A análise descritiva dos grupos com baixo e alto valor de produção pecuária mostra que o grupo de municípios com produção pecuária alta apresenta uma média de PIB per capita significativamente maior (23,82) em comparação ao grupo com produção pecuária baixa (17,36).\n",
        "\n",
        "A distância entre as médias, expressa em erros padrão combinados, é bastante elevada (16,12), indicando que essa diferença é estatisticamente relevante e não resultado do acaso.\n",
        "\n",
        "Além disso, vale destacar que as amostras utilizadas na análise foram cuidadosamente selecionadas a partir dos quartis da variável de produção pecuária, formando dois grupos bem distintos. Cada grupo conta com aproximadamente 8.300 municípios, o que representa um tamanho amostral robusto, conferindo maior confiabilidade estatística aos resultados obtidos\n"
      ],
      "metadata": {
        "id": "7-LdedonDyln"
      }
    },
    {
      "cell_type": "markdown",
      "source": [
        "## Verificação de normalidade\n",
        "\n",
        "Para verificar se a variável PIB nos grupos de municípios com baixa e alta produção pecuária segue uma distribuição normal, foi aplicsdo o [teste de Shapiro-Wilk](https://estatisticafacil.org/glossario/o-que-e-teste-de-shapiro-wilk/)."
      ],
      "metadata": {
        "id": "lwwcRb7oEq_1"
      }
    },
    {
      "cell_type": "code",
      "source": [
        "from scipy.stats import shapiro\n",
        "import warnings\n",
        "\n",
        "warnings.filterwarnings(\"ignore\", message=\"scipy.stats.shapiro: For N > 5000.*\")\n",
        "# Teste de normalidade para o PIB do grupo com baixa produção pecuária\n",
        "stat_baixo, p_baixo = shapiro(grupo_baixo_pib)\n",
        "print(\"Grupo Baixo Produção Pecuária:\")\n",
        "print(f\"  Estatística do teste de Shapiro-Wilk: {stat_baixo:.4f}\")\n",
        "print(f\"  P-valor: {p_baixo:.4f}\")\n",
        "print(\"  → Distribuição NÃO é normal\" if p_baixo < 0.05 else \"  → Distribuição pode ser considerada normal\")\n",
        "print()\n",
        "\n",
        "# Teste de normalidade para o PIB do grupo com alta produção pecuária\n",
        "stat_alto, p_alto = shapiro(grupo_alto_pib)\n",
        "print(\"Grupo Alto Produção Pecuária:\")\n",
        "print(f\"  Estatística do teste de Shapiro-Wilk: {stat_alto:.4f}\")\n",
        "print(f\"  P-valor: {p_alto:.4f}\")\n",
        "print(\"  → Distribuição NÃO é normal\" if p_alto < 0.05 else \"  → Distribuição pode ser considerada normal\")\n"
      ],
      "metadata": {
        "colab": {
          "base_uri": "https://localhost:8080/"
        },
        "id": "OvddayhzuR7e",
        "outputId": "766eff8f-8a8e-4c30-ef77-94678fbde479"
      },
      "execution_count": null,
      "outputs": [
        {
          "output_type": "stream",
          "name": "stdout",
          "text": [
            "Grupo Baixo Produção Pecuária:\n",
            "  Estatística do teste de Shapiro-Wilk: 0.4945\n",
            "  P-valor: 0.0000\n",
            "  → Distribuição NÃO é normal\n",
            "\n",
            "Grupo Alto Produção Pecuária:\n",
            "  Estatística do teste de Shapiro-Wilk: 0.6519\n",
            "  P-valor: 0.0000\n",
            "  → Distribuição NÃO é normal\n"
          ]
        }
      ]
    },
    {
      "cell_type": "markdown",
      "source": [
        "### Conclusão\n",
        "Os resultados do teste de Shapiro-Wilk indicam que as distribuições dos dados para os grupos de Baixa e Alta Produção Pecuária não seguem uma distribuição normal (p-valor < 0,05 em ambos os casos). Por isso, o teste t de Student, que assume normalidade dos dados, não é o mais adequado para comparar esses grupos. Portanto, optou-se pela utilização do teste de Mann-Whitney, que será explicado a seguir."
      ],
      "metadata": {
        "id": "ts134BnppK0m"
      }
    },
    {
      "cell_type": "markdown",
      "source": [
        "## Teste de Mann-Whitney U para comparação entre grupos\n",
        "\n",
        "O [Teste U de Mann-Whitney ](https://www.questionpro.com/blog/pt-br/teste-u-de-mann-whitney=/) é um teste estatístico não paramétrico utilizado para comparar se há diferença significativa entre as distribuições de duas amostras independentes. Ele é especialmente útil quando os dados não seguem uma distribuição normal, como indicado pelo teste de normalidade anteriore.\n"
      ],
      "metadata": {
        "id": "b9boP2um7yiL"
      }
    },
    {
      "cell_type": "code",
      "source": [
        "from scipy.stats import mannwhitneyu\n",
        "\n",
        "# Aplicar o teste de Mann-Whitney U\n",
        "estatistica, p_valor = mannwhitneyu(grupo_baixo_pib, grupo_alto_pib, alternative='two-sided')\n",
        "\n",
        "# Mostrar os resultados\n",
        "print(\"Teste de Mann-Whitney U\")\n",
        "print(f\"Estatística do teste: {estatistica:.4f}\")\n",
        "print(f\"P-valor: {p_valor:.200f}\")\n",
        "\n",
        "# Conclusão\n",
        "if p_valor < 0.05:\n",
        "    print(\"→ Rejeitamos H0: Há diferença significativa entre os grupos.\")\n",
        "else:\n",
        "    print(\"→ Não rejeitamos H0: Não há evidência de diferença entre os grupos.\")\n"
      ],
      "metadata": {
        "colab": {
          "base_uri": "https://localhost:8080/"
        },
        "id": "dPS3M7g4uZgl",
        "outputId": "8c8cb34e-f3db-4863-a2e1-4d0b4bdec813"
      },
      "execution_count": null,
      "outputs": [
        {
          "output_type": "stream",
          "name": "stdout",
          "text": [
            "Teste de Mann-Whitney U\n",
            "Estatística do teste: 26240442.0000\n",
            "P-valor: 0.00000000000000000000000000000000000000000000000000000000000000000000000000000000000000000000000000000000000000000000000000000000000000000000000000000000000000000000036675040149946907700030812673498812\n",
            "→ Rejeitamos H0: Há diferença significativa entre os grupos.\n"
          ]
        }
      ]
    },
    {
      "cell_type": "markdown",
      "source": [
        "### Conclusão\n",
        "\n",
        "O teste de Mann-Whitney U foi aplicado para verificar se existe diferença significativa entre os PIBs per capita dos municípios com baixa e alta produção pecuária. O resultado mostrou uma estatística U de 26.240.442,0000 e um p-valor extremamente pequeno (praticamente zero), o que indica uma forte evidência contra a hipótese nula.\n",
        "\n",
        "Dessa forma, é possível rejeitar a hipótese nula (H₀), concluindo que existe uma diferença estatisticamente significativa no PIB per capita entre os dois grupos de municípios. Isso sugere que o nível de produção pecuária está associado a variações no PIB dos municípios analisados."
      ],
      "metadata": {
        "id": "kMMY6iFzG54n"
      }
    },
    {
      "cell_type": "markdown",
      "source": [
        "# 🌲 Municípios com maior produção agrícola tendem a ter maior área desmatada?"
      ],
      "metadata": {
        "id": "INc1dA2bG1HY"
      }
    },
    {
      "cell_type": "markdown",
      "source": [
        "O avanço da agricultura está frequentemente associado a mudanças no uso do solo, incluindo o desmatamento. Diante disso, surge o questionamento: os municípios com maior valor de produção agrícola tendem a apresentar maiores áreas desmatadas? Essa relação pode indicar impactos ambientais significativos ligados à expansão agropecuária.\n",
        "\n",
        "Esta análise busca compreender essa possível relação, avaliando dados de produção agrícola, área plantada e desmatamento em municípios brasileiros ao longo dos últimos anos, com o objetivo de identificar padrões e associações relevantes.\n",
        "\n",
        "Para tanto, foi utilizado um dataset externo do projeto PRODES, do qual foram extraídas as seguintes informações:\n",
        "* ano: representa o ano em que os dados de desmatamento foram registrados;\n",
        "\n",
        "* id_municipio: código numérico único que identifica cada município brasileiro;\n",
        "\n",
        "* id_municipio_nome: nome do município correspondente ao código;\n",
        "\n",
        "* desmatado: área total desmatada registrada no município naquele ano."
      ],
      "metadata": {
        "id": "qEz6BkSQMwZz"
      }
    },
    {
      "cell_type": "code",
      "source": [
        "url1 = \"https://raw.githubusercontent.com/amandacmelo/Projeto-Ciencia-de-Dados/refs/heads/main/Dados%20sobre%20Desmatamento/area_desmatada_municipio.csv\"\n",
        "dados_desmatamento = pd.read_csv(url1, sep=\",\")\n",
        "\n",
        "#dados = pd.read_csv(url, on_bad_lines=\"skip\", sep=\";\") #lida com linhas com algum espaço vazio\n",
        "dados_desmatamento.columns"
      ],
      "metadata": {
        "colab": {
          "base_uri": "https://localhost:8080/"
        },
        "id": "Ex_LCmjBG88L",
        "outputId": "13424999-0715-4704-8e06-e6049930dbc1"
      },
      "execution_count": null,
      "outputs": [
        {
          "output_type": "execute_result",
          "data": {
            "text/plain": [
              "Index(['ano', 'id_municipio', 'id_municipio_nome', 'desmatado'], dtype='object')"
            ]
          },
          "metadata": {},
          "execution_count": 6
        }
      ]
    },
    {
      "cell_type": "markdown",
      "source": [
        "## Preparação dos Dados\n",
        "Para garantir a correta correspondência entre os datasets dados e dados_desmatamento, as colunas ano e id_municipio do dataset de desmatamento foram renomeadas para Ano e CDMunicipio, respectivamente. Essa padronização facilita a união dos dados por meio dos mesmos identificadores.\n",
        "\n",
        "Em seguida, foram criadas variáveis booleanas para facilitar a aplicação de algoritmos de regras de associação. Essas variáveis indicam se os valores das variáveis originais (desmatado, VlProducaoAgricola, AreaPlantada_h e VlProducaoPecuaria) são considerados \"altos\", definidos a partir do valor mediano de cada uma delas."
      ],
      "metadata": {
        "id": "bYtjCgWxSYzu"
      }
    },
    {
      "cell_type": "code",
      "source": [
        "# Primeiro, renomeia colunas de dados_desmatamento para fazer merge\n",
        "dados_desmatamento.rename(columns={\n",
        "    \"ano\": \"Ano\",\n",
        "    \"id_municipio\": \"CDMunicipio\"\n",
        "}, inplace=True)\n",
        "\n",
        "# Faz o merge\n",
        "df = pd.merge(dados, dados_desmatamento, on=[\"CDMunicipio\", \"Ano\"], how=\"inner\")\n",
        "\n",
        "# Seleciona apenas as colunas de interesse\n",
        "colunas_uso = [\n",
        "    \"Ano\", \"CDMunicipio\", \"Municipio\", \"Regiao\",\n",
        "    \"AreaPlantada_h\", \"VlProducaoAgricola\", \"VlProducaoPecuaria\",\n",
        "    \"desmatado\"\n",
        "]\n",
        "df = df[colunas_uso]\n",
        "df.columns\n",
        "\n",
        "import pandas as pd\n",
        "\n",
        "# Criação de colunas booleanas para regras de associação\n",
        "df['Desmatamento_Alto'] = df['desmatado'] > df['desmatado'].median()\n",
        "df['Agricultura_Alta'] = df['VlProducaoAgricola'] > df['VlProducaoAgricola'].median()\n",
        "df['Pecuaria_Alta'] = df['VlProducaoPecuaria'] > df['VlProducaoPecuaria'].median()\n",
        "df['AreaPlantada_Alta'] = df['AreaPlantada_h'] > df['AreaPlantada_h'].median()\n",
        "\n",
        "# Selecionar apenas essas colunas para análise\n",
        "df_apriori = df[['Desmatamento_Alto', 'Agricultura_Alta', 'Pecuaria_Alta', 'AreaPlantada_Alta']]\n"
      ],
      "metadata": {
        "id": "AIf217iwJIIk"
      },
      "execution_count": null,
      "outputs": []
    },
    {
      "cell_type": "markdown",
      "source": [
        "## Análise Inicial dos dados\n",
        "Incialmente foi feito uma matriz de correlação entre as variáveis numéricas relacionadas a desmatamento, área plantada e valores de produção agrícola e pecuária. Usando um heatmap com uma paleta de cores que varia do azul (correlação negativa) ao vermelho (correlação positiva), ele destaca visualmente a intensidade e direção das correlações entre essas variáveis, facilitando a identificação de relações fortes ou fracas entre elas."
      ],
      "metadata": {
        "id": "of_P7vGCXFZY"
      }
    },
    {
      "cell_type": "code",
      "source": [
        "\n",
        "\n",
        "# Paleta azul para seaborn (para outros gráficos)\n",
        "cores =  [\"#0D3B66\", \"#145DA0\", \"#1E81B0\", \"#2E9CCA\", \"#69C9D0\"]\n",
        "paleta = sns.color_palette(cores)\n",
        "sns.set_palette(paleta)\n",
        "plt.rcParams['figure.figsize'] = (12, 8)\n",
        "plt.style.use('fivethirtyeight')\n",
        "\n",
        "# Colunas numéricas para correlação\n",
        "colunas_numericas = ['desmatado', 'AreaPlantada_h', 'VlProducaoAgricola', 'VlProducaoPecuaria']\n",
        "correlation = df[colunas_numericas].corr()\n",
        "mask = np.triu(np.ones_like(correlation, dtype=bool))\n",
        "\n",
        "# Cria o colormap azul -> branco -> vermelho\n",
        "cmap_azul_vermelho = LinearSegmentedColormap.from_list(\n",
        "    \"blue_red\", [\"#0D3B66\", \"#FFFFFF\", \"#C0392B\"], N=256)\n",
        "\n",
        "plt.figure(figsize=(10, 8))\n",
        "sns.heatmap(correlation, mask=mask, cmap=cmap_azul_vermelho, vmax=1, vmin=-1, center=0,\n",
        "            square=True, linewidths=.5, cbar_kws={\"shrink\": .8}, annot=True, fmt=\".2f\")\n",
        "\n",
        "plt.title('Correlação entre Desmatamento, Área Plantada e Valores de Produção', fontsize=16)\n",
        "plt.tight_layout()\n",
        "plt.savefig('correlacao_azul_vermelho.png')\n",
        "plt.show()\n"
      ],
      "metadata": {
        "colab": {
          "base_uri": "https://localhost:8080/",
          "height": 794
        },
        "id": "q8-s3bGPO67C",
        "outputId": "1a510d8a-9c12-46c3-87e0-004795b7dd8a"
      },
      "execution_count": null,
      "outputs": [
        {
          "output_type": "display_data",
          "data": {
            "text/plain": [
              "<Figure size 1000x800 with 2 Axes>"
            ],
            "image/png": "[encoded data removed]"
          },
          "metadata": {}
        }
      ]
    },
    {
      "cell_type": "markdown",
      "source": [
        "### Conclusão\n",
        "\n",
        "A matriz de correlação apresentada revela padrões importantes sobre a relação entre desmatamento e diferentes aspectos da produção agropecuária:\n",
        "\n",
        "* Desmatamento e Agricultura: Existe uma correlação positiva moderada (0,32) entre áreas desmatadas e áreas plantadas, indicando que a expansão agrícola pode estar associada ao desmatamento em proporção significativa.\n",
        "\n",
        "* Produção Agrícola: A correlação entre desmatamento e valor da produção agrícola (0,24) confirma a relação entre esses fatores, embora em intensidade menor que a relação com a área plantada.\n",
        "\n",
        "* Pecuária e Desmatamento: Surpreendentemente, a correlação entre desmatamento e valor da produção pecuária é relativamente baixa (0,11), sugerindo que, nos dados analisados, a pecuária tem menor associação direta com o desmatamento do que a agricultura.\n",
        "\n",
        "* Área Plantada e Produção: Como esperado, existe uma correlação positiva moderada (0,34) entre área plantada e valor da produção agrícola, confirmando a relação entre expansão territorial e aumento da produção."
      ],
      "metadata": {
        "id": "5H24aiZbXPbc"
      }
    },
    {
      "cell_type": "markdown",
      "source": [
        "## Aplicação do Apriori\n",
        "\n",
        "Neste trecho, foi aplicado o algoritmo Apriori para identificar conjuntos frequentes de variáveis booleanas relacionadas a desmatamento, produção agrícola, pecuária e área plantada, com as seguintes etapas:\n",
        "\n",
        "* Identificação de conjuntos frequentes: Foi utilizado o Apriori com suporte mínimo de 20%, ou seja, é feito a busca de combinações de variáveis que aparecem em pelo menos 20% dos registros.\n",
        "\n",
        "* Geração de regras de associação: A partir dos conjuntos frequentes, foi gerado regras que apresentam confiança mínima de 60% (min_threshold=0.6), indicando que a conclusão da regra ocorre em pelo menos 60% dos casos em que a condição é satisfeita."
      ],
      "metadata": {
        "id": "oLimHiZhX2DH"
      }
    },
    {
      "cell_type": "code",
      "source": [
        "from mlxtend.frequent_patterns import apriori, association_rules\n",
        "\n",
        "# Aplicar Apriori para encontrar itens frequentes\n",
        "frequentes = apriori(df_apriori, use_colnames=True, min_support=0.2)\n",
        "\n",
        "# Gerar regras de associação\n",
        "regras = association_rules(frequentes, metric=\"confidence\", min_threshold=0.6)\n",
        "\n",
        "# Exibir regras ordenadas por confiança\n",
        "regras = regras.sort_values(by='confidence', ascending=False)\n",
        "print(regras[['antecedents', 'consequents', 'support', 'confidence', 'lift']])\n"
      ],
      "metadata": {
        "colab": {
          "base_uri": "https://localhost:8080/"
        },
        "id": "DYBql2u_K2WF",
        "outputId": "9b792970-7c1f-465d-d586-192beb94cb0e"
      },
      "execution_count": null,
      "outputs": [
        {
          "output_type": "stream",
          "name": "stdout",
          "text": [
            "                              antecedents          consequents   support  \\\n",
            "6  (Desmatamento_Alto, AreaPlantada_Alta)   (Agricultura_Alta)  0.218967   \n",
            "4   (Agricultura_Alta, Desmatamento_Alto)  (AreaPlantada_Alta)  0.218967   \n",
            "3                     (AreaPlantada_Alta)   (Agricultura_Alta)  0.331701   \n",
            "2                      (Agricultura_Alta)  (AreaPlantada_Alta)  0.331701   \n",
            "5   (Agricultura_Alta, AreaPlantada_Alta)  (Desmatamento_Alto)  0.218967   \n",
            "1                     (AreaPlantada_Alta)  (Desmatamento_Alto)  0.284144   \n",
            "0                      (Agricultura_Alta)  (Desmatamento_Alto)  0.299062   \n",
            "\n",
            "   confidence      lift  \n",
            "6    0.770618  1.546284  \n",
            "4    0.732179  1.547962  \n",
            "3    0.701278  1.407148  \n",
            "2    0.665575  1.407148  \n",
            "5    0.660132  1.320399  \n",
            "1    0.600733  1.201589  \n",
            "0    0.600082  1.200286  \n"
          ]
        }
      ]
    },
    {
      "cell_type": "markdown",
      "source": [
        "### Conclusão\n",
        "\n",
        "As regras extraídas indicam que existe uma associação positiva e significativa entre os níveis altos de desmatamento, área plantada e produção agrícola. Por exemplo, quando o desmatamento e a área plantada são altos, há uma alta probabilidade (confiança ~77%) de que a produção agrícola também seja alta, com um lift maior que 1,5, indicando uma associação forte e positiva. De forma semelhante, áreas com produção agrícola alta tendem a ter área plantada alta e níveis elevados de desmatamento. Essas relações sugerem que o aumento da produção agrícola e da área plantada está correlacionado com maior desmatamento."
      ],
      "metadata": {
        "id": "SJaqOGnBY4Il"
      }
    }
  ]
}